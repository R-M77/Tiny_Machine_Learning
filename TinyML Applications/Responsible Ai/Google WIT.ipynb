{
 "cells": [
  {
   "cell_type": "markdown",
   "metadata": {},
   "source": [
    "# Google What if tool (WIT)\n",
    "\n",
    "Now that you’ve gained familiarity with some of the common metrics for fairness in machine learning, you will have the chance to explore Google’s What-If Tool (WIT). In this Colab we will walk you through exploring a real-life dataset and identifying sources of unfairness in the data across different social groups. In this case, we will train a DNN on the UCI census problem (predicting whether a person earns more than $50K from their census information), and visualize different ways to optimize the model for fairness using Google’s What-If Tool.\n",
    "\n",
    "https://colab.research.google.com/github/tinyMLx/colabs/blob/master/3-10-7-WIT.ipynb"
   ]
  }
 ],
 "metadata": {
  "language_info": {
   "name": "python"
  },
  "orig_nbformat": 4
 },
 "nbformat": 4,
 "nbformat_minor": 2
}
