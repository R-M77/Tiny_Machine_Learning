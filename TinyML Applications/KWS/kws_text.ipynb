{
 "cells": [
  {
   "cell_type": "markdown",
   "metadata": {},
   "source": [
    "### Keyword Spotting in the Big Picture\n",
    "\n",
    "\n",
    "\n",
    "A high level flowchart showing all of the steps in possible keyword spotting applications and how the keyword spotting task is a small part of a much large speech recognition application architecture.\n",
    "\n",
    "In this section, we have focused on the task of keyword spotting for tiny machine learning systems. We have seen how to develop algorithms for performing keyword spotting on a small set of keywords, and the challenges associated with developing these algorithms. We have also seen how audio can be streamed from a microphone to allow for low-power and yet online monitoring of keywords, and how this can be linked in a cascade architecture as a gateway to more complex and power-hungry operations such as natural language processing.\n",
    "\n",
    "Keyword spotting has become increasingly popular in recent years, such as the introduction of software-based personal assistants like Siri (Apple), Cortana (Microsoft), Alexa (Amazon), and Google Assistant (Google). Similarly, smartphones utilize keyword spotting even while the CPU is not running through the use of an onboard digital signal processor, which is able to ‘wake up’ the CPU when a keyword is detected. These devices also utilize a cascade architecture, allowing the user to wake the device and subsequently ask questions which can be parsed and analyzed using natural language processing methods via an interface to the Cloud.\n",
    "\n",
    "The prevalence of keyword spotting in industry will likely continue to increase as voice-recognition and natural language processing algorithms become increasingly accurate and powerful. We are already beginning to see voice-enabled TV’s, alarm clocks (e.g., Hatch), lighting systems (e.g., Philips Hue), thermostats (e.g., Honeywell), and even smart vacuum cleaners (e.g., LG SmartThinQ). Based on the work you have done in this section, you are now equipped with many of the tools to develop your own systems for keyword spotting applications.\n",
    "\n"
   ]
  }
 ],
 "metadata": {
  "language_info": {
   "name": "python"
  },
  "orig_nbformat": 4
 },
 "nbformat": 4,
 "nbformat_minor": 2
}
