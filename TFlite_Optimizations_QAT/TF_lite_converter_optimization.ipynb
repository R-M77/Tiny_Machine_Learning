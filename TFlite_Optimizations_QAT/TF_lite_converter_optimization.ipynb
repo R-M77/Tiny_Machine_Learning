{
 "cells": [
  {
   "cell_type": "code",
   "execution_count": 1,
   "metadata": {},
   "outputs": [],
   "source": [
    "import tensorflow as tf\n",
    "import numpy as np\n",
    "import matplotlib.pyplot as plt\n",
    "from keras import Sequential, models\n",
    "import tensorflow_hub as hub\n",
    "import tensorflow_datasets as tfdata\n"
   ]
  },
  {
   "cell_type": "code",
   "execution_count": 10,
   "metadata": {},
   "outputs": [
    {
     "name": "stdout",
     "output_type": "stream",
     "text": [
      "exmaples: 23262, classes: 2\n"
     ]
    },
    {
     "data": {
      "text/plain": [
       "TensorShape([32, 224, 224, 3])"
      ]
     },
     "execution_count": 10,
     "metadata": {},
     "output_type": "execute_result"
    }
   ],
   "source": [
    "# Normalize data - format images\n",
    "def format_img(img, label):\n",
    "    img = tf.image.resize(img, (224,224)) /255.0\n",
    "    return img, label\n",
    "\n",
    "# Load dataset \n",
    "(train_img, validate_img, test_img), metadata = tfdata.load('cats_vs_dogs', split= ['train[:80]', 'train[80%:90%]','train[90%:]'], with_info=True, as_supervised=True)\n",
    "# Display data\n",
    "num_examples = metadata.splits['train'].num_examples\n",
    "num_classes = metadata.features['label'].num_classes\n",
    "print(\"exmaples: {}, classes: {}\".format(num_examples, num_classes))\n",
    "\n",
    "# Split data\n",
    "BATCH_SIZE = 32\n",
    "train_batches = train_img.shuffle(num_examples//4).map(format_img).batch(BATCH_SIZE).prefetch(1)\n",
    "validate_batches = validate_img.map(format_img).batch(BATCH_SIZE).prefetch(1)\n",
    "test_batches = test_img.map(format_img).batch(1)\n",
    "\n",
    "# Display data shape\n",
    "for img_batch, label_batch in train_batches.take(1):\n",
    "    pass\n",
    "img_batch.shape"
   ]
  }
 ],
 "metadata": {
  "interpreter": {
   "hash": "ac59ebe37160ed0dfa835113d9b8498d9f09ceb179beaac4002f036b9467c963"
  },
  "kernelspec": {
   "display_name": "Python 3.9.7 64-bit",
   "language": "python",
   "name": "python3"
  },
  "language_info": {
   "codemirror_mode": {
    "name": "ipython",
    "version": 3
   },
   "file_extension": ".py",
   "mimetype": "text/x-python",
   "name": "python",
   "nbconvert_exporter": "python",
   "pygments_lexer": "ipython3",
   "version": "3.9.7"
  },
  "orig_nbformat": 4
 },
 "nbformat": 4,
 "nbformat_minor": 2
}
