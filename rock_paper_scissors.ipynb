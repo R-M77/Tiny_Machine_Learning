{
 "cells": [
  {
   "cell_type": "code",
   "execution_count": 1,
   "metadata": {},
   "outputs": [],
   "source": [
    "import tensorflow as tf\n",
    "import numpy as np\n",
    "import matplotlib.pyplot as plt\n",
    "import tensorflow_hub as hub\n",
    "import tensorflow_datasets as tfds\n",
    "import pathlib\n",
    "from tensorflow.keras import Sequential, layers\n",
    "from tqdm import tqdm"
   ]
  },
  {
   "cell_type": "code",
   "execution_count": 2,
   "metadata": {},
   "outputs": [],
   "source": [
    "def format_image(image, label):\n",
    "    image = tf.image.resize(image, (224,224))/255.0\n",
    "    return image, label\n",
    "\n",
    "(train_raw, valid_raw, test_raw), metadata = tfds.load(\n",
    "    'rock_paper_scissors', split=['train[:80%]','train[80%:]','test'],\n",
    "    with_info=True, as_supervised=True\n",
    ")\n",
    "\n",
    "num_examples = metadata.splits['train'].num_examples\n",
    "num_classes = metadata.features['label'].num_classes\n",
    "\n",
    "BATCH_SIZE = 32\n",
    "train_batches = train_raw.shuffle(num_examples//4).map(format_image).batch(BATCH_SIZE).prefetch(1)\n",
    "valid_batches = valid_raw.map(format_image).batch(BATCH_SIZE).prefetch(1)\n",
    "test_batches = test_raw.map(format_image).batch(1)\n",
    "\n",
    "for image_batch, label_batch in train_batches.take(1):\n",
    "    pass"
   ]
  },
  {
   "cell_type": "code",
   "execution_count": 4,
   "metadata": {},
   "outputs": [
    {
     "name": "stdout",
     "output_type": "stream",
     "text": [
      "Using https://tfhub.dev/google/tf2-preview/mobilenet_v2/feature_vector/4 with input size (224, 224) and output dimension 1280\n",
      "Building model with https://tfhub.dev/google/tf2-preview/mobilenet_v2/feature_vector/4\n",
      "Epoch 1/5\n",
      "63/63 [==============================] - 12s 54ms/step - loss: 0.9012 - accuracy: 0.6285 - val_loss: 0.8265 - val_accuracy: 0.6587\n",
      "Epoch 2/5\n",
      "63/63 [==============================] - 2s 36ms/step - loss: 0.7954 - accuracy: 0.6687 - val_loss: 0.7799 - val_accuracy: 0.6587\n",
      "Epoch 3/5\n",
      "63/63 [==============================] - 2s 36ms/step - loss: 0.7552 - accuracy: 0.6687 - val_loss: 0.7476 - val_accuracy: 0.6587\n",
      "Epoch 4/5\n",
      "63/63 [==============================] - 2s 36ms/step - loss: 0.7247 - accuracy: 0.6687 - val_loss: 0.7218 - val_accuracy: 0.6587\n",
      "Epoch 5/5\n",
      "63/63 [==============================] - 2s 35ms/step - loss: 0.6995 - accuracy: 0.6687 - val_loss: 0.7001 - val_accuracy: 0.6587\n"
     ]
    }
   ],
   "source": [
    "module_selection = (\"mobilenet_v2\", 224, 1280) \n",
    "handle_base, pixels, FV_SIZE = module_selection\n",
    "MODULE_HANDLE =\"https://tfhub.dev/google/tf2-preview/mobilenet_v2/feature_vector/4\".format(handle_base)\n",
    "IMAGE_SIZE = (pixels, pixels)\n",
    "print(\"Using {} with input size {} and output dimension {}\".format(MODULE_HANDLE, IMAGE_SIZE, FV_SIZE))\n",
    "\n",
    "# feature_extractor = hub.KerasLayer(MODULE_HANDLE,\n",
    "#                                    input_shape=IMAGE_SIZE + (3,), \n",
    "#                                    output_shape=[FV_SIZE],\n",
    "#                                    trainable=False)\n",
    "\n",
    "feature_extractor = tf.keras.Sequential([\n",
    "    hub.KerasLayer(\"https://tfhub.dev/google/tf2-preview/mobilenet_v2/feature_vector/3\", output_shape=[1280], trainable=False),\n",
    "  layers.Dense(num_classes, activation='softmax')\n",
    "])\n",
    "\n",
    "print(\"Building model with\", MODULE_HANDLE)\n",
    "\n",
    "model = tf.keras.Sequential([\n",
    "        feature_extractor,\n",
    "        tf.keras.layers.Dense(num_classes, activation='softmax')\n",
    "])\n",
    "\n",
    "\n",
    "model.compile(optimizer='adam',\n",
    "                  loss='sparse_categorical_crossentropy',\n",
    "                  metrics=['accuracy'])\n",
    "\n",
    "EPOCHS = 5\n",
    "\n",
    "hist = model.fit(train_batches,\n",
    "                 epochs=EPOCHS,\n",
    "                 validation_data=valid_batches)\n"
   ]
  },
  {
   "cell_type": "code",
   "execution_count": 12,
   "metadata": {},
   "outputs": [
    {
     "name": "stdout",
     "output_type": "stream",
     "text": [
      "Model: \"sequential_3\"\n",
      "_________________________________________________________________\n",
      "Layer (type)                 Output Shape              Param #   \n",
      "=================================================================\n",
      "sequential_2 (Sequential)    (None, 3)                 2261827   \n",
      "_________________________________________________________________\n",
      "dense_3 (Dense)              (None, 3)                 12        \n",
      "=================================================================\n",
      "Total params: 2,261,839\n",
      "Trainable params: 3,855\n",
      "Non-trainable params: 2,257,984\n",
      "_________________________________________________________________\n"
     ]
    }
   ],
   "source": [
    "model.summary()\n"
   ]
  },
  {
   "cell_type": "code",
   "execution_count": null,
   "metadata": {},
   "outputs": [],
   "source": []
  }
 ],
 "metadata": {
  "interpreter": {
   "hash": "ac59ebe37160ed0dfa835113d9b8498d9f09ceb179beaac4002f036b9467c963"
  },
  "kernelspec": {
   "display_name": "Python 3.9.7 64-bit",
   "language": "python",
   "name": "python3"
  },
  "language_info": {
   "codemirror_mode": {
    "name": "ipython",
    "version": 3
   },
   "file_extension": ".py",
   "mimetype": "text/x-python",
   "name": "python",
   "nbconvert_exporter": "python",
   "pygments_lexer": "ipython3",
   "version": "3.9.7"
  },
  "orig_nbformat": 4
 },
 "nbformat": 4,
 "nbformat_minor": 2
}
