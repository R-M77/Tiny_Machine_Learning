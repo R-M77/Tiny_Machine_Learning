{
 "cells": [
  {
   "cell_type": "code",
   "execution_count": 2,
   "metadata": {},
   "outputs": [],
   "source": [
    "import numpy as np\n",
    "import tensorflow as tf\n",
    "import matplotlib.pyplot as plt"
   ]
  },
  {
   "cell_type": "code",
   "execution_count": 4,
   "metadata": {},
   "outputs": [
    {
     "name": "stdout",
     "output_type": "stream",
     "text": [
      "Epoch 1/20\n",
      "1875/1875 [==============================] - 4s 2ms/step - loss: 0.5898 - accuracy: 0.7999 - val_loss: 0.4940 - val_accuracy: 0.8264\n",
      "Epoch 2/20\n",
      "1875/1875 [==============================] - 4s 2ms/step - loss: 0.4383 - accuracy: 0.8473 - val_loss: 0.4494 - val_accuracy: 0.8413\n",
      "Epoch 3/20\n",
      "1875/1875 [==============================] - 3s 2ms/step - loss: 0.4087 - accuracy: 0.8566 - val_loss: 0.4658 - val_accuracy: 0.8294\n",
      "Epoch 4/20\n",
      "1875/1875 [==============================] - 3s 2ms/step - loss: 0.3908 - accuracy: 0.8619 - val_loss: 0.4277 - val_accuracy: 0.8494\n",
      "Epoch 5/20\n",
      "1875/1875 [==============================] - 3s 2ms/step - loss: 0.3783 - accuracy: 0.8663 - val_loss: 0.4187 - val_accuracy: 0.8521\n",
      "Epoch 6/20\n",
      "1875/1875 [==============================] - 3s 2ms/step - loss: 0.3670 - accuracy: 0.8692 - val_loss: 0.4169 - val_accuracy: 0.8499\n",
      "Epoch 7/20\n",
      "1875/1875 [==============================] - 3s 2ms/step - loss: 0.3618 - accuracy: 0.8707 - val_loss: 0.3980 - val_accuracy: 0.8582\n",
      "Epoch 8/20\n",
      "1875/1875 [==============================] - 3s 2ms/step - loss: 0.3532 - accuracy: 0.8741 - val_loss: 0.3983 - val_accuracy: 0.8591\n",
      "Epoch 9/20\n",
      "1875/1875 [==============================] - 3s 2ms/step - loss: 0.3469 - accuracy: 0.8749 - val_loss: 0.4022 - val_accuracy: 0.8573\n",
      "Epoch 10/20\n",
      "1875/1875 [==============================] - 3s 2ms/step - loss: 0.3404 - accuracy: 0.8780 - val_loss: 0.3946 - val_accuracy: 0.8556\n",
      "Epoch 11/20\n",
      "1875/1875 [==============================] - 3s 2ms/step - loss: 0.3359 - accuracy: 0.8791 - val_loss: 0.4049 - val_accuracy: 0.8559\n",
      "Epoch 12/20\n",
      "1875/1875 [==============================] - 3s 2ms/step - loss: 0.3313 - accuracy: 0.8808 - val_loss: 0.3888 - val_accuracy: 0.8636\n",
      "Epoch 13/20\n",
      "1875/1875 [==============================] - 4s 2ms/step - loss: 0.3276 - accuracy: 0.8810 - val_loss: 0.3974 - val_accuracy: 0.8562\n",
      "Epoch 14/20\n",
      "1875/1875 [==============================] - 4s 2ms/step - loss: 0.3253 - accuracy: 0.8824 - val_loss: 0.3953 - val_accuracy: 0.8570\n",
      "Epoch 15/20\n",
      "1875/1875 [==============================] - 4s 2ms/step - loss: 0.3205 - accuracy: 0.8842 - val_loss: 0.4006 - val_accuracy: 0.8597\n",
      "Epoch 16/20\n",
      "1875/1875 [==============================] - 3s 2ms/step - loss: 0.3151 - accuracy: 0.8867 - val_loss: 0.3928 - val_accuracy: 0.8620\n",
      "Epoch 17/20\n",
      "1875/1875 [==============================] - 3s 2ms/step - loss: 0.3142 - accuracy: 0.8851 - val_loss: 0.3976 - val_accuracy: 0.8603\n",
      "Epoch 18/20\n",
      "1875/1875 [==============================] - 3s 2ms/step - loss: 0.3093 - accuracy: 0.8892 - val_loss: 0.3943 - val_accuracy: 0.8614\n",
      "Epoch 19/20\n",
      "1875/1875 [==============================] - 3s 2ms/step - loss: 0.3064 - accuracy: 0.8892 - val_loss: 0.4046 - val_accuracy: 0.8566\n",
      "Epoch 20/20\n",
      "1875/1875 [==============================] - 3s 2ms/step - loss: 0.3046 - accuracy: 0.8895 - val_loss: 0.3816 - val_accuracy: 0.8669\n"
     ]
    },
    {
     "data": {
      "text/plain": [
       "<keras.callbacks.History at 0x21aba106760>"
      ]
     },
     "execution_count": 4,
     "metadata": {},
     "output_type": "execute_result"
    }
   ],
   "source": [
    "\"\"\"fashion mnist - DNN (control case)\"\"\"\n",
    "mnist = tf.keras.datasets.fashion_mnist\n",
    "(train_img, train_label),(val_img, val_label) = mnist.load_data()\n",
    "train_img = train_img/255.0\n",
    "val_img = val_img/255.0\n",
    "\n",
    "# build DNN model, simple relu\n",
    "model = tf.keras.models.Sequential([\n",
    "    tf.keras.layers.Flatten(),\n",
    "    tf.keras.layers.Dense(20, activation='relu'),\n",
    "    tf.keras.layers.Dense(10,activation='softmax')\n",
    "])\n",
    "\n",
    "# compile model and fit data\n",
    "model.compile(optimizer='adam', loss='sparse_categorical_crossentropy',metrics=['accuracy'])\n",
    "model.fit(train_img,train_label, validation_data=(val_img,val_label), epochs=20)\n"
   ]
  },
  {
   "cell_type": "code",
   "execution_count": 5,
   "metadata": {},
   "outputs": [
    {
     "name": "stdout",
     "output_type": "stream",
     "text": [
      "Model: \"sequential_2\"\n",
      "_________________________________________________________________\n",
      "Layer (type)                 Output Shape              Param #   \n",
      "=================================================================\n",
      "conv2d (Conv2D)              (None, 26, 26, 64)        640       \n",
      "_________________________________________________________________\n",
      "max_pooling2d (MaxPooling2D) (None, 13, 13, 64)        0         \n",
      "_________________________________________________________________\n",
      "conv2d_1 (Conv2D)            (None, 11, 11, 64)        36928     \n",
      "_________________________________________________________________\n",
      "max_pooling2d_1 (MaxPooling2 (None, 5, 5, 64)          0         \n",
      "_________________________________________________________________\n",
      "flatten_2 (Flatten)          (None, 1600)              0         \n",
      "_________________________________________________________________\n",
      "dense_4 (Dense)              (None, 20)                32020     \n",
      "_________________________________________________________________\n",
      "dense_5 (Dense)              (None, 10)                210       \n",
      "=================================================================\n",
      "Total params: 69,798\n",
      "Trainable params: 69,798\n",
      "Non-trainable params: 0\n",
      "_________________________________________________________________\n",
      "Epoch 1/20\n",
      "1875/1875 [==============================] - 10s 4ms/step - loss: 0.5151 - accuracy: 0.8119 - val_loss: 0.3797 - val_accuracy: 0.8668\n",
      "Epoch 2/20\n",
      "1875/1875 [==============================] - 6s 3ms/step - loss: 0.3335 - accuracy: 0.8809 - val_loss: 0.3518 - val_accuracy: 0.8713\n",
      "Epoch 3/20\n",
      "1875/1875 [==============================] - 6s 3ms/step - loss: 0.2904 - accuracy: 0.8950 - val_loss: 0.3037 - val_accuracy: 0.8901\n",
      "Epoch 4/20\n",
      "1875/1875 [==============================] - 6s 3ms/step - loss: 0.2591 - accuracy: 0.9062 - val_loss: 0.2829 - val_accuracy: 0.8986\n",
      "Epoch 5/20\n",
      "1875/1875 [==============================] - 6s 3ms/step - loss: 0.2365 - accuracy: 0.9143 - val_loss: 0.2758 - val_accuracy: 0.9008\n",
      "Epoch 6/20\n",
      "1875/1875 [==============================] - 7s 4ms/step - loss: 0.2151 - accuracy: 0.9222 - val_loss: 0.2645 - val_accuracy: 0.9035\n",
      "Epoch 7/20\n",
      "1875/1875 [==============================] - 7s 4ms/step - loss: 0.2006 - accuracy: 0.9262 - val_loss: 0.2656 - val_accuracy: 0.9032\n",
      "Epoch 8/20\n",
      "1875/1875 [==============================] - 6s 3ms/step - loss: 0.1864 - accuracy: 0.9305 - val_loss: 0.2579 - val_accuracy: 0.9076\n",
      "Epoch 9/20\n",
      "1875/1875 [==============================] - 7s 3ms/step - loss: 0.1730 - accuracy: 0.9358 - val_loss: 0.2706 - val_accuracy: 0.9056\n",
      "Epoch 10/20\n",
      "1875/1875 [==============================] - 6s 3ms/step - loss: 0.1621 - accuracy: 0.9408 - val_loss: 0.2738 - val_accuracy: 0.9084\n",
      "Epoch 11/20\n",
      "1875/1875 [==============================] - 6s 3ms/step - loss: 0.1535 - accuracy: 0.9425 - val_loss: 0.2771 - val_accuracy: 0.9051\n",
      "Epoch 12/20\n",
      "1875/1875 [==============================] - 6s 3ms/step - loss: 0.1433 - accuracy: 0.9469 - val_loss: 0.2798 - val_accuracy: 0.9061\n",
      "Epoch 13/20\n",
      "1875/1875 [==============================] - 6s 3ms/step - loss: 0.1330 - accuracy: 0.9512 - val_loss: 0.2938 - val_accuracy: 0.9078\n",
      "Epoch 14/20\n",
      "1875/1875 [==============================] - 6s 3ms/step - loss: 0.1273 - accuracy: 0.9521 - val_loss: 0.3107 - val_accuracy: 0.8980\n",
      "Epoch 15/20\n",
      "1875/1875 [==============================] - 6s 3ms/step - loss: 0.1189 - accuracy: 0.9560 - val_loss: 0.3139 - val_accuracy: 0.9074\n",
      "Epoch 16/20\n",
      "1875/1875 [==============================] - 6s 3ms/step - loss: 0.1134 - accuracy: 0.9576 - val_loss: 0.3108 - val_accuracy: 0.9020\n",
      "Epoch 17/20\n",
      "1875/1875 [==============================] - 6s 3ms/step - loss: 0.1045 - accuracy: 0.9610 - val_loss: 0.3329 - val_accuracy: 0.9087\n",
      "Epoch 18/20\n",
      "1875/1875 [==============================] - 6s 3ms/step - loss: 0.1000 - accuracy: 0.9624 - val_loss: 0.3548 - val_accuracy: 0.8988\n",
      "Epoch 19/20\n",
      "1875/1875 [==============================] - 6s 3ms/step - loss: 0.0948 - accuracy: 0.9649 - val_loss: 0.3525 - val_accuracy: 0.9035\n",
      "Epoch 20/20\n",
      "1875/1875 [==============================] - 6s 3ms/step - loss: 0.0881 - accuracy: 0.9672 - val_loss: 0.3756 - val_accuracy: 0.9053\n"
     ]
    },
    {
     "data": {
      "text/plain": [
       "<keras.callbacks.History at 0x21ab35f95e0>"
      ]
     },
     "execution_count": 5,
     "metadata": {},
     "output_type": "execute_result"
    }
   ],
   "source": [
    "\"\"\"fashion mnist - CNN (test case)\"\"\"\n",
    "\"\"\"same model as before but using convolutions for image processing\"\"\"\n",
    "mnist = tf.keras.datasets.fashion_mnist\n",
    "(train_images,train_labels),(val_images, val_labels) = mnist.load_data()\n",
    "# img reshape\n",
    "train_images = train_images.reshape(60000,28,28,1)\n",
    "train_images = train_images/255.0\n",
    "# image reshape\n",
    "val_images = val_images.reshape(10000,28,28,1)\n",
    "val_images = val_images/255.0\n",
    "\n",
    "# build model for input shape 28x28 monochrome | 1 channel\n",
    "# CNN model with 2 convolution layers\n",
    "model = tf.keras.models.Sequential([\n",
    "    tf.keras.layers.Conv2D(64,(3,3), activation='relu', input_shape = (28,28,1)),\n",
    "    tf.keras.layers.MaxPooling2D(2,2),\n",
    "    tf.keras.layers.Conv2D(64,(3,3),activation='relu'),\n",
    "    tf.keras.layers.MaxPooling2D(2,2),\n",
    "    tf.keras.layers.Flatten(),\n",
    "    tf.keras.layers.Dense(20, activation='relu'),\n",
    "    tf.keras.layers.Dense(10, activation='softmax'),\n",
    "])\n",
    "\n",
    "# compile model and fit\n",
    "model.compile(optimizer='adam',loss='sparse_categorical_crossentropy',metrics=['accuracy'])\n",
    "model.summary()\n",
    "model.fit(train_images,train_labels,validation_data=(val_images,val_labels),epochs=20)"
   ]
  },
  {
   "cell_type": "code",
   "execution_count": 6,
   "metadata": {},
   "outputs": [
    {
     "name": "stdout",
     "output_type": "stream",
     "text": [
      "[9 2 1 1 6 1 4 6 5 7 4 5 7 3 4 1 2 4 8 0 2 5 7 9 1 4 6 0 9 3 8 8 3 3 8 0 7\n",
      " 5 7 9 6 1 3 7 6 7 2 1 2 2 4 4 5 8 2 2 8 4 8 0 7 7 8 5 1 1 2 3 9 8 7 0 2 6\n",
      " 2 3 1 2 8 4 1 8 5 9 5 0 3 2 0 6 5 3 6 7 1 8 0 1 4 2]\n"
     ]
    }
   ],
   "source": [
    "\"\"\"print labels\"\"\"\n",
    "print(val_labels[:100])"
   ]
  },
  {
   "cell_type": "code",
   "execution_count": 12,
   "metadata": {},
   "outputs": [
    {
     "data": {
      "image/png": "[encoded data removed]",
      "text/plain": [
       "<Figure size 432x288 with 6 Axes>"
      ]
     },
     "metadata": {
      "needs_background": "light"
     },
     "output_type": "display_data"
    },
    {
     "data": {
      "image/png": "[encoded data removed]",
      "text/plain": [
       "<Figure size 432x288 with 1 Axes>"
      ]
     },
     "metadata": {
      "needs_background": "light"
     },
     "output_type": "display_data"
    },
    {
     "data": {
      "image/png": "[encoded data removed]",
      "text/plain": [
       "<Figure size 432x288 with 1 Axes>"
      ]
     },
     "metadata": {
      "needs_background": "light"
     },
     "output_type": "display_data"
    },
    {
     "data": {
      "image/png": "[encoded data removed]",
      "text/plain": [
       "<Figure size 432x288 with 1 Axes>"
      ]
     },
     "metadata": {
      "needs_background": "light"
     },
     "output_type": "display_data"
    }
   ],
   "source": [
    "\"\"\"visualize data\"\"\"\n",
    "def show_images(img,validation_data,data_shape):\n",
    "    plt.figure()\n",
    "    plt.imshow(val_images[img].reshape(data_shape[0],data_shape[1],data_shape[2]))\n",
    "    plt.grid(False)\n",
    "    plt.axis('off')\n",
    "    plt.show()\n",
    "\n",
    "# set up plots\n",
    "f, axarr = plt.subplots(3,2)\n",
    "first_image = 2\n",
    "second_image = 3\n",
    "third_image = 5\n",
    "\n",
    "convolution_number = 1\n",
    "from tensorflow.keras import models\n",
    "layer_outputs = [layer.output for layer in model.layers]\n",
    "activation_model = tf.keras.models.Model(inputs=model.input, outputs = layer_outputs)\n",
    "\n",
    "# create color map for each output for visualization\n",
    "data_shape = (28,28,1)      #specify data shape (x_dim, y_dim, channels)\n",
    "\n",
    "for x in range(0,2):\n",
    "    f1 = activation_model.predict(val_images[first_image].reshape(1,data_shape[0],data_shape[1],data_shape[2]))[x]\n",
    "    axarr[0,x].imshow(f1[0,:,:,convolution_number],cmap = 'inferno')\n",
    "    axarr[0,x].grid(False)\n",
    "\n",
    "    f2 = activation_model.predict(val_images[second_image].reshape(1,data_shape[0],data_shape[1],data_shape[2]))[x]\n",
    "    axarr[1,x].imshow(f2[0,:,:,convolution_number],cmap = 'inferno')\n",
    "    axarr[1,x].grid(False)\n",
    "\n",
    "    f3 = activation_model.predict(val_images[third_image].reshape(1,data_shape[0],data_shape[1],data_shape[2]))[x]\n",
    "    axarr[2,x].imshow(f3[0,:,:,convolution_number],cmap = 'inferno')\n",
    "    axarr[2,x].grid(False)\n",
    "\n",
    "# display images altogether\n",
    "show_images(first_image,validation_data=val_images,data_shape=data_shape)\n",
    "show_images(second_image,validation_data=val_images,data_shape=data_shape)\n",
    "show_images(third_image,validation_data=val_images,data_shape=data_shape)\n",
    "\n"
   ]
  }
 ],
 "metadata": {
  "interpreter": {
   "hash": "ac59ebe37160ed0dfa835113d9b8498d9f09ceb179beaac4002f036b9467c963"
  },
  "kernelspec": {
   "display_name": "Python 3.9.7 64-bit",
   "name": "python3"
  },
  "language_info": {
   "codemirror_mode": {
    "name": "ipython",
    "version": 3
   },
   "file_extension": ".py",
   "mimetype": "text/x-python",
   "name": "python",
   "nbconvert_exporter": "python",
   "pygments_lexer": "ipython3",
   "version": "3.9.7"
  },
  "orig_nbformat": 4
 },
 "nbformat": 4,
 "nbformat_minor": 2
}
