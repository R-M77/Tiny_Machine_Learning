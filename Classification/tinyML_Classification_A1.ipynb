{
 "cells": [
  {
   "cell_type": "code",
   "execution_count": 1,
   "metadata": {},
   "outputs": [],
   "source": [
    "import tensorflow as tf\n",
    "import numpy as np\n",
    "import matplotlib.pyplot as plt"
   ]
  },
  {
   "cell_type": "code",
   "execution_count": 2,
   "metadata": {},
   "outputs": [],
   "source": [
    "\"\"\"load dataset\"\"\"\n",
    "mnist = tf.keras.datasets.fashion_mnist\n",
    "\n",
    "(train_Images, train_Labels), (test_Images, test_Labels) = mnist.load_data()"
   ]
  },
  {
   "cell_type": "code",
   "execution_count": 7,
   "metadata": {},
   "outputs": [],
   "source": [
    "\"\"\"setup layers and build model\"\"\"\n",
    "num_L1_Neurons = 1024\n",
    "num_Out_Neurons = 10\n",
    "flatten_Layer = tf.keras.layers.Flatten(input_shape = (28,28))\n",
    "layer_1 = tf.keras.layers.Dense(num_L1_Neurons, activation='relu')\n",
    "layer_2 = tf.keras.layers.Dense(num_Out_Neurons, activation='softmax')\n",
    "\n",
    "\"\"\"sequential model\"\"\"\n",
    "model = tf.keras.models.Sequential([flatten_Layer,layer_1,layer_2])"
   ]
  },
  {
   "cell_type": "code",
   "execution_count": 4,
   "metadata": {},
   "outputs": [],
   "source": [
    "\"\"\"normalize images. train and test data\"\"\"\n",
    "train_Images = train_Images/255.0\n",
    "test_Images = test_Images/255.0"
   ]
  },
  {
   "cell_type": "code",
   "execution_count": 8,
   "metadata": {},
   "outputs": [
    {
     "name": "stdout",
     "output_type": "stream",
     "text": [
      "Epoch 1/5\n",
      "1875/1875 [==============================] - 3s 2ms/step - loss: 0.4735 - accuracy: 0.8305\n",
      "Epoch 2/5\n",
      "1875/1875 [==============================] - 3s 2ms/step - loss: 0.3584 - accuracy: 0.8683\n",
      "Epoch 3/5\n",
      "1875/1875 [==============================] - 3s 2ms/step - loss: 0.3207 - accuracy: 0.8815\n",
      "Epoch 4/5\n",
      "1875/1875 [==============================] - 3s 2ms/step - loss: 0.2943 - accuracy: 0.8897\n",
      "Epoch 5/5\n",
      "1875/1875 [==============================] - 3s 2ms/step - loss: 0.2785 - accuracy: 0.8953\n",
      "313/313 [==============================] - 1s 1ms/step - loss: 0.3800 - accuracy: 0.8641\n"
     ]
    },
    {
     "data": {
      "text/plain": [
       "[0.37998801469802856, 0.8640999794006348]"
      ]
     },
     "execution_count": 8,
     "metadata": {},
     "output_type": "execute_result"
    }
   ],
   "source": [
    "\"\"\"compile model\"\"\"\n",
    "model.compile(optimizer = 'adam',\n",
    "loss = 'sparse_categorical_crossentropy',\n",
    "metrics = ['accuracy'])\n",
    "\n",
    "\"\"\"fit mode to train data\"\"\"\n",
    "model.fit(train_Images,train_Labels,epochs = 5)\n",
    "\n",
    "\"\"\"test the trained model with test data\"\"\"\n",
    "model.evaluate(test_Images,test_Labels)"
   ]
  },
  {
   "cell_type": "code",
   "execution_count": 9,
   "metadata": {},
   "outputs": [
    {
     "name": "stdout",
     "output_type": "stream",
     "text": [
      "[1.19116493e-07 8.71388028e-09 1.20639445e-08 1.43753523e-10\n",
      " 3.99339761e-08 7.39512891e-02 1.10251037e-07 1.75823849e-02\n",
      " 1.34065170e-09 9.08466041e-01]\n",
      "9\n"
     ]
    }
   ],
   "source": [
    "\"\"\"preform classifications and predict\"\"\"\n",
    "classifications = model.predict(test_Images)\n",
    "\"\"\"output results and compare to the true label\"\"\"\n",
    "print(classifications[0])\n",
    "print(test_Labels[0])"
   ]
  },
  {
   "cell_type": "code",
   "execution_count": 25,
   "metadata": {},
   "outputs": [
    {
     "name": "stdout",
     "output_type": "stream",
     "text": [
      "Epoch 1/5\n",
      "   1/1875 [..............................] - ETA: 7:11 - loss: 2.3457 - accuracy: 0.1562WARNING:tensorflow:Callback method `on_train_batch_end` is slow compared to the batch time (batch time: 0.0030s vs `on_train_batch_end` time: 0.0038s). Check your callbacks.\n",
      "1875/1875 [==============================] - 4s 2ms/step - loss: 0.4686 - accuracy: 0.8294\n",
      "Epoch 2/5\n",
      "1875/1875 [==============================] - 4s 2ms/step - loss: 0.3554 - accuracy: 0.8692\n"
     ]
    },
    {
     "data": {
      "text/plain": [
       "<keras.callbacks.History at 0x16b5f5ebe50>"
      ]
     },
     "execution_count": 25,
     "metadata": {},
     "output_type": "execute_result"
    }
   ],
   "source": [
    "\"\"\"callbacks to stop after accuracy hits a target threshold\"\"\"\n",
    "class myCallback(tf.keras.callbacks.Callback):\n",
    "  def on_epoch_end(self, epoch, logs={}):\n",
    "    if(epoch>0 and logs.get('accuracy')>0.86):\n",
    "      self.model.stop_training = True\n",
    "callbacks = myCallback()\n",
    "\n",
    "new_Layer = tf.keras.layers.Dense(512, activation='relu')\n",
    "model = tf.keras.models.Sequential([tf.keras.layers.Flatten(input_shape=(28,28)),\n",
    "                            tf.keras.layers.Dense(1024, activation=tf.nn.relu),\n",
    "                            new_Layer,\n",
    "                            tf.keras.layers.Dense(10, activation=tf.nn.softmax)])\n",
    "model.compile(optimizer = tf.keras.optimizers.Adam(),\n",
    "      loss = 'sparse_categorical_crossentropy',\n",
    "      metrics=['accuracy'])\n",
    "model.fit(train_Images, train_Labels, epochs=5, callbacks=[callbacks])"
   ]
  }
 ],
 "metadata": {
  "interpreter": {
   "hash": "ac59ebe37160ed0dfa835113d9b8498d9f09ceb179beaac4002f036b9467c963"
  },
  "kernelspec": {
   "display_name": "Python 3.9.7 64-bit",
   "name": "python3"
  },
  "language_info": {
   "codemirror_mode": {
    "name": "ipython",
    "version": 3
   },
   "file_extension": ".py",
   "mimetype": "text/x-python",
   "name": "python",
   "nbconvert_exporter": "python",
   "pygments_lexer": "ipython3",
   "version": "3.9.7"
  },
  "orig_nbformat": 4
 },
 "nbformat": 4,
 "nbformat_minor": 2
}
