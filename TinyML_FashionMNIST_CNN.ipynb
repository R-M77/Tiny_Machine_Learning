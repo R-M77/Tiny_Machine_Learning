{
 "cells": [
  {
   "cell_type": "code",
   "execution_count": 4,
   "metadata": {},
   "outputs": [],
   "source": [
    "import numpy as np\n",
    "import tensorflow as tf\n",
    "import matplotlib.pyplot as plt"
   ]
  },
  {
   "cell_type": "code",
   "execution_count": 8,
   "metadata": {},
   "outputs": [
    {
     "name": "stdout",
     "output_type": "stream",
     "text": [
      "Epoch 1/20\n",
      "1875/1875 [==============================] - 5s 2ms/step - loss: 0.5728 - accuracy: 0.8003 - val_loss: 0.4877 - val_accuracy: 0.8277\n",
      "Epoch 2/20\n",
      "1875/1875 [==============================] - 4s 2ms/step - loss: 0.4344 - accuracy: 0.8481 - val_loss: 0.4656 - val_accuracy: 0.8319\n",
      "Epoch 3/20\n",
      "1875/1875 [==============================] - 4s 2ms/step - loss: 0.4083 - accuracy: 0.8563 - val_loss: 0.4315 - val_accuracy: 0.8478\n",
      "Epoch 4/20\n",
      "1875/1875 [==============================] - 4s 2ms/step - loss: 0.3895 - accuracy: 0.8625 - val_loss: 0.4309 - val_accuracy: 0.8435\n",
      "Epoch 5/20\n",
      "1875/1875 [==============================] - 4s 2ms/step - loss: 0.3741 - accuracy: 0.8670 - val_loss: 0.4215 - val_accuracy: 0.8475\n",
      "Epoch 6/20\n",
      "1875/1875 [==============================] - 4s 2ms/step - loss: 0.3610 - accuracy: 0.8713 - val_loss: 0.4068 - val_accuracy: 0.8558\n",
      "Epoch 7/20\n",
      "1875/1875 [==============================] - 4s 2ms/step - loss: 0.3489 - accuracy: 0.8758 - val_loss: 0.3980 - val_accuracy: 0.8582\n",
      "Epoch 8/20\n",
      "1875/1875 [==============================] - 4s 2ms/step - loss: 0.3406 - accuracy: 0.8785 - val_loss: 0.3975 - val_accuracy: 0.8582\n",
      "Epoch 9/20\n",
      "1875/1875 [==============================] - 4s 2ms/step - loss: 0.3352 - accuracy: 0.8778 - val_loss: 0.4021 - val_accuracy: 0.8607\n",
      "Epoch 10/20\n",
      "1875/1875 [==============================] - 4s 2ms/step - loss: 0.3285 - accuracy: 0.8809 - val_loss: 0.3993 - val_accuracy: 0.8588\n",
      "Epoch 11/20\n",
      "1875/1875 [==============================] - 4s 2ms/step - loss: 0.3222 - accuracy: 0.8831 - val_loss: 0.3940 - val_accuracy: 0.8615\n",
      "Epoch 12/20\n",
      "1875/1875 [==============================] - 4s 2ms/step - loss: 0.3175 - accuracy: 0.8841 - val_loss: 0.3845 - val_accuracy: 0.8653\n",
      "Epoch 13/20\n",
      "1875/1875 [==============================] - 4s 2ms/step - loss: 0.3118 - accuracy: 0.8857 - val_loss: 0.3913 - val_accuracy: 0.8601\n",
      "Epoch 14/20\n",
      "1875/1875 [==============================] - 4s 2ms/step - loss: 0.3076 - accuracy: 0.8881 - val_loss: 0.3873 - val_accuracy: 0.8658\n",
      "Epoch 15/20\n",
      "1875/1875 [==============================] - 4s 2ms/step - loss: 0.3026 - accuracy: 0.8886 - val_loss: 0.3841 - val_accuracy: 0.8653\n",
      "Epoch 16/20\n",
      "1875/1875 [==============================] - 4s 2ms/step - loss: 0.3022 - accuracy: 0.8887 - val_loss: 0.3934 - val_accuracy: 0.8611\n",
      "Epoch 17/20\n",
      "1875/1875 [==============================] - 4s 2ms/step - loss: 0.2964 - accuracy: 0.8915 - val_loss: 0.3863 - val_accuracy: 0.8668\n",
      "Epoch 18/20\n",
      "1875/1875 [==============================] - 4s 2ms/step - loss: 0.2942 - accuracy: 0.8923 - val_loss: 0.3985 - val_accuracy: 0.8617\n",
      "Epoch 19/20\n",
      "1875/1875 [==============================] - 4s 2ms/step - loss: 0.2904 - accuracy: 0.8934 - val_loss: 0.3894 - val_accuracy: 0.8662\n",
      "Epoch 20/20\n",
      "1875/1875 [==============================] - 4s 2ms/step - loss: 0.2879 - accuracy: 0.8939 - val_loss: 0.3971 - val_accuracy: 0.8605\n"
     ]
    },
    {
     "data": {
      "text/plain": [
       "<keras.callbacks.History at 0x2d65e5cac40>"
      ]
     },
     "execution_count": 8,
     "metadata": {},
     "output_type": "execute_result"
    }
   ],
   "source": [
    "\"\"\"fashion mnist - DNN (control case)\"\"\"\n",
    "mnist = tf.keras.datasets.fashion_mnist\n",
    "(train_img, train_label),(val_img, val_label) = mnist.load_data()\n",
    "train_img = train_img/255.0\n",
    "val_img = val_img/255.0\n",
    "\n",
    "model = tf.keras.models.Sequential([\n",
    "    tf.keras.layers.Flatten(),\n",
    "    tf.keras.layers.Dense(20, activation='relu'),\n",
    "    tf.keras.layers.Dense(10,activation='softmax')\n",
    "])\n",
    "\n",
    "model.compile(optimizer='adam', loss='sparse_categorical_crossentropy',metrics=['accuracy'])\n",
    "model.fit(train_img,train_label, validation_data=(val_img,val_label), epochs=20)\n"
   ]
  },
  {
   "cell_type": "code",
   "execution_count": 5,
   "metadata": {},
   "outputs": [
    {
     "name": "stdout",
     "output_type": "stream",
     "text": [
      "Model: \"sequential\"\n",
      "_________________________________________________________________\n",
      "Layer (type)                 Output Shape              Param #   \n",
      "=================================================================\n",
      "conv2d (Conv2D)              (None, 26, 26, 64)        640       \n",
      "_________________________________________________________________\n",
      "max_pooling2d (MaxPooling2D) (None, 13, 13, 64)        0         \n",
      "_________________________________________________________________\n",
      "conv2d_1 (Conv2D)            (None, 11, 11, 64)        36928     \n",
      "_________________________________________________________________\n",
      "max_pooling2d_1 (MaxPooling2 (None, 5, 5, 64)          0         \n",
      "_________________________________________________________________\n",
      "flatten (Flatten)            (None, 1600)              0         \n",
      "_________________________________________________________________\n",
      "dense (Dense)                (None, 20)                32020     \n",
      "_________________________________________________________________\n",
      "dense_1 (Dense)              (None, 10)                210       \n",
      "=================================================================\n",
      "Total params: 69,798\n",
      "Trainable params: 69,798\n",
      "Non-trainable params: 0\n",
      "_________________________________________________________________\n",
      "Epoch 1/20\n",
      "1875/1875 [==============================] - 9s 4ms/step - loss: 0.4891 - accuracy: 0.8229 - val_loss: 0.3679 - val_accuracy: 0.8698\n",
      "Epoch 2/20\n",
      "1875/1875 [==============================] - 6s 3ms/step - loss: 0.3254 - accuracy: 0.8825 - val_loss: 0.3213 - val_accuracy: 0.8878\n",
      "Epoch 3/20\n",
      "1875/1875 [==============================] - 6s 3ms/step - loss: 0.2782 - accuracy: 0.8993 - val_loss: 0.3062 - val_accuracy: 0.8891\n",
      "Epoch 4/20\n",
      "1875/1875 [==============================] - 6s 3ms/step - loss: 0.2504 - accuracy: 0.9087 - val_loss: 0.2841 - val_accuracy: 0.8959\n",
      "Epoch 5/20\n",
      "1875/1875 [==============================] - 6s 3ms/step - loss: 0.2265 - accuracy: 0.9173 - val_loss: 0.2639 - val_accuracy: 0.9051\n",
      "Epoch 6/20\n",
      "1875/1875 [==============================] - 6s 3ms/step - loss: 0.2070 - accuracy: 0.9226 - val_loss: 0.2635 - val_accuracy: 0.9013\n",
      "Epoch 7/20\n",
      "1875/1875 [==============================] - 6s 3ms/step - loss: 0.1916 - accuracy: 0.9281 - val_loss: 0.2768 - val_accuracy: 0.9019\n",
      "Epoch 8/20\n",
      "1875/1875 [==============================] - 6s 3ms/step - loss: 0.1788 - accuracy: 0.9337 - val_loss: 0.2650 - val_accuracy: 0.9075\n",
      "Epoch 9/20\n",
      "1875/1875 [==============================] - 6s 3ms/step - loss: 0.1641 - accuracy: 0.9388 - val_loss: 0.2690 - val_accuracy: 0.9102\n",
      "Epoch 10/20\n",
      "1875/1875 [==============================] - 6s 3ms/step - loss: 0.1550 - accuracy: 0.9416 - val_loss: 0.2771 - val_accuracy: 0.9100\n",
      "Epoch 11/20\n",
      "1875/1875 [==============================] - 6s 3ms/step - loss: 0.1426 - accuracy: 0.9473 - val_loss: 0.2744 - val_accuracy: 0.9139\n",
      "Epoch 12/20\n",
      "1875/1875 [==============================] - 6s 3ms/step - loss: 0.1323 - accuracy: 0.9507 - val_loss: 0.2732 - val_accuracy: 0.9103\n",
      "Epoch 13/20\n",
      "1875/1875 [==============================] - 6s 3ms/step - loss: 0.1216 - accuracy: 0.9553 - val_loss: 0.2911 - val_accuracy: 0.9067\n",
      "Epoch 14/20\n",
      "1875/1875 [==============================] - 6s 3ms/step - loss: 0.1164 - accuracy: 0.9567 - val_loss: 0.2840 - val_accuracy: 0.9086\n",
      "Epoch 15/20\n",
      "1875/1875 [==============================] - 6s 3ms/step - loss: 0.1051 - accuracy: 0.9610 - val_loss: 0.3154 - val_accuracy: 0.9086\n",
      "Epoch 16/20\n",
      "1875/1875 [==============================] - 6s 3ms/step - loss: 0.0999 - accuracy: 0.9629 - val_loss: 0.3380 - val_accuracy: 0.8996\n",
      "Epoch 17/20\n",
      "1875/1875 [==============================] - 6s 3ms/step - loss: 0.0945 - accuracy: 0.9654 - val_loss: 0.3215 - val_accuracy: 0.9090\n",
      "Epoch 18/20\n",
      "1875/1875 [==============================] - 6s 3ms/step - loss: 0.0872 - accuracy: 0.9677 - val_loss: 0.3297 - val_accuracy: 0.9099\n",
      "Epoch 19/20\n",
      "1875/1875 [==============================] - 5s 3ms/step - loss: 0.0831 - accuracy: 0.9691 - val_loss: 0.3600 - val_accuracy: 0.9073\n",
      "Epoch 20/20\n",
      "1875/1875 [==============================] - 6s 3ms/step - loss: 0.0777 - accuracy: 0.9712 - val_loss: 0.3625 - val_accuracy: 0.9061\n"
     ]
    },
    {
     "data": {
      "text/plain": [
       "<keras.callbacks.History at 0x1754d526b50>"
      ]
     },
     "execution_count": 5,
     "metadata": {},
     "output_type": "execute_result"
    }
   ],
   "source": [
    "\"\"\"fashion mnist - CNN (test case)\"\"\"\n",
    "\"\"\"same model as before but using convolutions for image processing\"\"\"\n",
    "mnist = tf.keras.datasets.fashion_mnist\n",
    "(train_images,train_labels),(val_images, val_labels) = mnist.load_data()\n",
    "# img reshape\n",
    "train_images = train_images.reshape(60000,28,28,1)\n",
    "train_images = train_images/255.0\n",
    "# image reshape\n",
    "val_images = val_images.reshape(10000,28,28,1)\n",
    "val_images = val_images/255.0\n",
    "\n",
    "model = tf.keras.models.Sequential([\n",
    "    tf.keras.layers.Conv2D(64,(3,3), activation='relu', input_shape = (28,28,1)),\n",
    "    tf.keras.layers.MaxPooling2D(2,2),\n",
    "    tf.keras.layers.Conv2D(64,(3,3),activation='relu'),\n",
    "    tf.keras.layers.MaxPooling2D(2,2),\n",
    "    tf.keras.layers.Flatten(),\n",
    "    tf.keras.layers.Dense(20, activation='relu'),\n",
    "    tf.keras.layers.Dense(10, activation='softmax'),\n",
    "])\n",
    "\n",
    "model.compile(optimizer='adam',loss='sparse_categorical_crossentropy',metrics=['accuracy'])\n",
    "model.summary()\n",
    "model.fit(train_images,train_labels,validation_data=(val_images,val_labels),epochs=20)"
   ]
  },
  {
   "cell_type": "code",
   "execution_count": 6,
   "metadata": {},
   "outputs": [
    {
     "name": "stdout",
     "output_type": "stream",
     "text": [
      "[9 2 1 1 6 1 4 6 5 7 4 5 7 3 4 1 2 4 8 0 2 5 7 9 1 4 6 0 9 3 8 8 3 3 8 0 7\n",
      " 5 7 9 6 1 3 7 6 7 2 1 2 2 4 4 5 8 2 2 8 4 8 0 7 7 8 5 1 1 2 3 9 8 7 0 2 6\n",
      " 2 3 1 2 8 4 1 8 5 9 5 0 3 2 0 6 5 3 6 7 1 8 0 1 4 2]\n"
     ]
    }
   ],
   "source": [
    "\"\"\"print labels\"\"\"\n",
    "print(val_labels[:100])"
   ]
  },
  {
   "cell_type": "code",
   "execution_count": 16,
   "metadata": {},
   "outputs": [
    {
     "data": {
      "image/png": "[encoded data removed]",
      "text/plain": [
       "<Figure size 432x288 with 6 Axes>"
      ]
     },
     "metadata": {
      "needs_background": "light"
     },
     "output_type": "display_data"
    },
    {
     "data": {
      "image/png": "[encoded data removed]",
      "text/plain": [
       "<Figure size 432x288 with 1 Axes>"
      ]
     },
     "metadata": {
      "needs_background": "light"
     },
     "output_type": "display_data"
    },
    {
     "data": {
      "image/png": "[encoded data removed]",
      "text/plain": [
       "<Figure size 432x288 with 1 Axes>"
      ]
     },
     "metadata": {
      "needs_background": "light"
     },
     "output_type": "display_data"
    },
    {
     "data": {
      "image/png": "[encoded data removed]",
      "text/plain": [
       "<Figure size 432x288 with 1 Axes>"
      ]
     },
     "metadata": {
      "needs_background": "light"
     },
     "output_type": "display_data"
    }
   ],
   "source": [
    "\"\"\"visualize data\"\"\"\n",
    "def show_images(img):\n",
    "    plt.figure()\n",
    "    plt.imshow(val_images[img].reshape(28,28))\n",
    "    plt.grid(False)\n",
    "    plt.axis('off')\n",
    "    plt.show()\n",
    "\n",
    "f, axarr = plt.subplots(3,2)\n",
    "first_image = 2\n",
    "second_image = 3\n",
    "third_image = 5\n",
    "\n",
    "convolution_number = 1\n",
    "from tensorflow.keras import models\n",
    "layer_outputs = [layer.output for layer in model.layers]\n",
    "activation_model = tf.keras.models.Model(inputs=model.input, outputs = layer_outputs)\n",
    "\n",
    "for x in range(0,2):\n",
    "    f1 = activation_model.predict(val_images[first_image].reshape(1,28,28,1))[x]\n",
    "    axarr[0,x].imshow(f1[0,:,:,convolution_number],cmap = 'inferno')\n",
    "    axarr[0,x].grid(False)\n",
    "\n",
    "    f2 = activation_model.predict(val_images[second_image].reshape(1,28,28,1))[x]\n",
    "    axarr[1,x].imshow(f2[0,:,:,convolution_number],cmap = 'inferno')\n",
    "    axarr[1,x].grid(False)\n",
    "\n",
    "    f3 = activation_model.predict(val_images[third_image].reshape(1,28,28,1))[x]\n",
    "    axarr[2,x].imshow(f3[0,:,:,convolution_number],cmap = 'inferno')\n",
    "    axarr[2,x].grid(False)\n",
    "\n",
    "show_images(first_image)\n",
    "show_images(second_image)\n",
    "show_images(third_image)\n",
    "\n"
   ]
  },
  {
   "cell_type": "code",
   "execution_count": null,
   "metadata": {},
   "outputs": [],
   "source": []
  }
 ],
 "metadata": {
  "interpreter": {
   "hash": "ac59ebe37160ed0dfa835113d9b8498d9f09ceb179beaac4002f036b9467c963"
  },
  "kernelspec": {
   "display_name": "Python 3.9.7 64-bit",
   "name": "python3"
  },
  "language_info": {
   "codemirror_mode": {
    "name": "ipython",
    "version": 3
   },
   "file_extension": ".py",
   "mimetype": "text/x-python",
   "name": "python",
   "nbconvert_exporter": "python",
   "pygments_lexer": "ipython3",
   "version": "3.9.7"
  },
  "orig_nbformat": 4
 },
 "nbformat": 4,
 "nbformat_minor": 2
}
