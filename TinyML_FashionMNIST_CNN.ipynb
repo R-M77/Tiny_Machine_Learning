{
 "cells": [
  {
   "cell_type": "code",
   "execution_count": 2,
   "metadata": {},
   "outputs": [],
   "source": [
    "import numpy as np\n",
    "import tensorflow as tf\n",
    "import matplotlib.pyplot as plt"
   ]
  },
  {
   "cell_type": "code",
   "execution_count": 8,
   "metadata": {},
   "outputs": [
    {
     "name": "stdout",
     "output_type": "stream",
     "text": [
      "Epoch 1/20\n",
      "1875/1875 [==============================] - 5s 2ms/step - loss: 0.5728 - accuracy: 0.8003 - val_loss: 0.4877 - val_accuracy: 0.8277\n",
      "Epoch 2/20\n",
      "1875/1875 [==============================] - 4s 2ms/step - loss: 0.4344 - accuracy: 0.8481 - val_loss: 0.4656 - val_accuracy: 0.8319\n",
      "Epoch 3/20\n",
      "1875/1875 [==============================] - 4s 2ms/step - loss: 0.4083 - accuracy: 0.8563 - val_loss: 0.4315 - val_accuracy: 0.8478\n",
      "Epoch 4/20\n",
      "1875/1875 [==============================] - 4s 2ms/step - loss: 0.3895 - accuracy: 0.8625 - val_loss: 0.4309 - val_accuracy: 0.8435\n",
      "Epoch 5/20\n",
      "1875/1875 [==============================] - 4s 2ms/step - loss: 0.3741 - accuracy: 0.8670 - val_loss: 0.4215 - val_accuracy: 0.8475\n",
      "Epoch 6/20\n",
      "1875/1875 [==============================] - 4s 2ms/step - loss: 0.3610 - accuracy: 0.8713 - val_loss: 0.4068 - val_accuracy: 0.8558\n",
      "Epoch 7/20\n",
      "1875/1875 [==============================] - 4s 2ms/step - loss: 0.3489 - accuracy: 0.8758 - val_loss: 0.3980 - val_accuracy: 0.8582\n",
      "Epoch 8/20\n",
      "1875/1875 [==============================] - 4s 2ms/step - loss: 0.3406 - accuracy: 0.8785 - val_loss: 0.3975 - val_accuracy: 0.8582\n",
      "Epoch 9/20\n",
      "1875/1875 [==============================] - 4s 2ms/step - loss: 0.3352 - accuracy: 0.8778 - val_loss: 0.4021 - val_accuracy: 0.8607\n",
      "Epoch 10/20\n",
      "1875/1875 [==============================] - 4s 2ms/step - loss: 0.3285 - accuracy: 0.8809 - val_loss: 0.3993 - val_accuracy: 0.8588\n",
      "Epoch 11/20\n",
      "1875/1875 [==============================] - 4s 2ms/step - loss: 0.3222 - accuracy: 0.8831 - val_loss: 0.3940 - val_accuracy: 0.8615\n",
      "Epoch 12/20\n",
      "1875/1875 [==============================] - 4s 2ms/step - loss: 0.3175 - accuracy: 0.8841 - val_loss: 0.3845 - val_accuracy: 0.8653\n",
      "Epoch 13/20\n",
      "1875/1875 [==============================] - 4s 2ms/step - loss: 0.3118 - accuracy: 0.8857 - val_loss: 0.3913 - val_accuracy: 0.8601\n",
      "Epoch 14/20\n",
      "1875/1875 [==============================] - 4s 2ms/step - loss: 0.3076 - accuracy: 0.8881 - val_loss: 0.3873 - val_accuracy: 0.8658\n",
      "Epoch 15/20\n",
      "1875/1875 [==============================] - 4s 2ms/step - loss: 0.3026 - accuracy: 0.8886 - val_loss: 0.3841 - val_accuracy: 0.8653\n",
      "Epoch 16/20\n",
      "1875/1875 [==============================] - 4s 2ms/step - loss: 0.3022 - accuracy: 0.8887 - val_loss: 0.3934 - val_accuracy: 0.8611\n",
      "Epoch 17/20\n",
      "1875/1875 [==============================] - 4s 2ms/step - loss: 0.2964 - accuracy: 0.8915 - val_loss: 0.3863 - val_accuracy: 0.8668\n",
      "Epoch 18/20\n",
      "1875/1875 [==============================] - 4s 2ms/step - loss: 0.2942 - accuracy: 0.8923 - val_loss: 0.3985 - val_accuracy: 0.8617\n",
      "Epoch 19/20\n",
      "1875/1875 [==============================] - 4s 2ms/step - loss: 0.2904 - accuracy: 0.8934 - val_loss: 0.3894 - val_accuracy: 0.8662\n",
      "Epoch 20/20\n",
      "1875/1875 [==============================] - 4s 2ms/step - loss: 0.2879 - accuracy: 0.8939 - val_loss: 0.3971 - val_accuracy: 0.8605\n"
     ]
    },
    {
     "data": {
      "text/plain": [
       "<keras.callbacks.History at 0x2d65e5cac40>"
      ]
     },
     "execution_count": 8,
     "metadata": {},
     "output_type": "execute_result"
    }
   ],
   "source": [
    "\"\"\"fashion mnist - DNN (control case)\"\"\"\n",
    "mnist = tf.keras.datasets.fashion_mnist\n",
    "(train_img, train_label),(val_img, val_label) = mnist.load_data()\n",
    "train_img = train_img/255.0\n",
    "val_img = val_img/255.0\n",
    "\n",
    "model = tf.keras.models.Sequential([\n",
    "    tf.keras.layers.Flatten(),\n",
    "    tf.keras.layers.Dense(20, activation='relu'),\n",
    "    tf.keras.layers.Dense(10,activation='softmax')\n",
    "])\n",
    "\n",
    "model.compile(optimizer='adam', loss='sparse_categorical_crossentropy',metrics=['accuracy'])\n",
    "model.fit(train_img,train_label, validation_data=(val_img,val_label), epochs=20)\n"
   ]
  },
  {
   "cell_type": "code",
   "execution_count": 11,
   "metadata": {},
   "outputs": [
    {
     "name": "stdout",
     "output_type": "stream",
     "text": [
      "Model: \"sequential_5\"\n",
      "_________________________________________________________________\n",
      "Layer (type)                 Output Shape              Param #   \n",
      "=================================================================\n",
      "conv2d (Conv2D)              (None, 26, 26, 64)        640       \n",
      "_________________________________________________________________\n",
      "max_pooling2d (MaxPooling2D) (None, 13, 13, 64)        0         \n",
      "_________________________________________________________________\n",
      "conv2d_1 (Conv2D)            (None, 11, 11, 64)        36928     \n",
      "_________________________________________________________________\n",
      "max_pooling2d_1 (MaxPooling2 (None, 5, 5, 64)          0         \n",
      "_________________________________________________________________\n",
      "flatten_5 (Flatten)          (None, 1600)              0         \n",
      "_________________________________________________________________\n",
      "dense_10 (Dense)             (None, 20)                32020     \n",
      "_________________________________________________________________\n",
      "dense_11 (Dense)             (None, 10)                210       \n",
      "=================================================================\n",
      "Total params: 69,798\n",
      "Trainable params: 69,798\n",
      "Non-trainable params: 0\n",
      "_________________________________________________________________\n",
      "Epoch 1/20\n",
      "1875/1875 [==============================] - 10s 3ms/step - loss: 0.5059 - accuracy: 0.8188 - val_loss: 0.3798 - val_accuracy: 0.8625\n",
      "Epoch 2/20\n",
      "1875/1875 [==============================] - 6s 3ms/step - loss: 0.3341 - accuracy: 0.8800 - val_loss: 0.3367 - val_accuracy: 0.8765\n",
      "Epoch 3/20\n",
      "1875/1875 [==============================] - 6s 3ms/step - loss: 0.2893 - accuracy: 0.8959 - val_loss: 0.3014 - val_accuracy: 0.8905\n",
      "Epoch 4/20\n",
      "1875/1875 [==============================] - 6s 3ms/step - loss: 0.2602 - accuracy: 0.9060 - val_loss: 0.2863 - val_accuracy: 0.8960\n",
      "Epoch 5/20\n",
      "1875/1875 [==============================] - 6s 3ms/step - loss: 0.2394 - accuracy: 0.9131 - val_loss: 0.3068 - val_accuracy: 0.8877\n",
      "Epoch 6/20\n",
      "1875/1875 [==============================] - 6s 3ms/step - loss: 0.2202 - accuracy: 0.9195 - val_loss: 0.2723 - val_accuracy: 0.9010\n",
      "Epoch 7/20\n",
      "1875/1875 [==============================] - 6s 3ms/step - loss: 0.2037 - accuracy: 0.9256 - val_loss: 0.2972 - val_accuracy: 0.8938\n",
      "Epoch 8/20\n",
      "1875/1875 [==============================] - 6s 3ms/step - loss: 0.1884 - accuracy: 0.9318 - val_loss: 0.2785 - val_accuracy: 0.9011\n",
      "Epoch 9/20\n",
      "1875/1875 [==============================] - 6s 3ms/step - loss: 0.1757 - accuracy: 0.9355 - val_loss: 0.2885 - val_accuracy: 0.9004\n",
      "Epoch 10/20\n",
      "1875/1875 [==============================] - 6s 3ms/step - loss: 0.1667 - accuracy: 0.9390 - val_loss: 0.2779 - val_accuracy: 0.9037\n",
      "Epoch 11/20\n",
      "1875/1875 [==============================] - 6s 3ms/step - loss: 0.1552 - accuracy: 0.9421 - val_loss: 0.2895 - val_accuracy: 0.9073\n",
      "Epoch 12/20\n",
      "1875/1875 [==============================] - 6s 3ms/step - loss: 0.1463 - accuracy: 0.9461 - val_loss: 0.2893 - val_accuracy: 0.9068\n",
      "Epoch 13/20\n",
      "1875/1875 [==============================] - 6s 3ms/step - loss: 0.1371 - accuracy: 0.9496 - val_loss: 0.2875 - val_accuracy: 0.9054\n",
      "Epoch 14/20\n",
      "1875/1875 [==============================] - 6s 3ms/step - loss: 0.1294 - accuracy: 0.9526 - val_loss: 0.2983 - val_accuracy: 0.9062\n",
      "Epoch 15/20\n",
      "1875/1875 [==============================] - 6s 3ms/step - loss: 0.1230 - accuracy: 0.9550 - val_loss: 0.3403 - val_accuracy: 0.9009\n",
      "Epoch 16/20\n",
      "1875/1875 [==============================] - 6s 3ms/step - loss: 0.1157 - accuracy: 0.9571 - val_loss: 0.3256 - val_accuracy: 0.9008\n",
      "Epoch 17/20\n",
      "1875/1875 [==============================] - 6s 3ms/step - loss: 0.1066 - accuracy: 0.9607 - val_loss: 0.3338 - val_accuracy: 0.9029\n",
      "Epoch 18/20\n",
      "1875/1875 [==============================] - 6s 3ms/step - loss: 0.1021 - accuracy: 0.9623 - val_loss: 0.3643 - val_accuracy: 0.9019\n",
      "Epoch 19/20\n",
      "1875/1875 [==============================] - 6s 3ms/step - loss: 0.0983 - accuracy: 0.9635 - val_loss: 0.3496 - val_accuracy: 0.9031\n",
      "Epoch 20/20\n",
      "1875/1875 [==============================] - 6s 3ms/step - loss: 0.0907 - accuracy: 0.9663 - val_loss: 0.3873 - val_accuracy: 0.9005\n"
     ]
    },
    {
     "data": {
      "text/plain": [
       "<keras.callbacks.History at 0x2d65e5e6f40>"
      ]
     },
     "execution_count": 11,
     "metadata": {},
     "output_type": "execute_result"
    }
   ],
   "source": [
    "\"\"\"fashion mnist - CNN (test case)\"\"\"\n",
    "\"\"\"same model as before but using convolutions for image processing\"\"\"\n",
    "mnist = tf.keras.datasets.fashion_mnist\n",
    "(train_images,train_labels),(val_images, val_labels) = mnist.load_data()\n",
    "# img reshape\n",
    "train_images = train_images.reshape(60000,28,28,1)\n",
    "train_images = train_images/255.0\n",
    "# image reshape\n",
    "val_images = val_images.reshape(10000,28,28,1)\n",
    "val_images = val_images/255.0\n",
    "\n",
    "model = tf.keras.models.Sequential([\n",
    "    tf.keras.layers.Conv2D(64,(3,3), activation='relu', input_shape = (28,28,1)),\n",
    "    tf.keras.layers.MaxPooling2D(2,2),\n",
    "    tf.keras.layers.Conv2D(64,(3,3),activation='relu'),\n",
    "    tf.keras.layers.MaxPooling2D(2,2),\n",
    "    tf.keras.layers.Flatten(),\n",
    "    tf.keras.layers.Dense(20, activation='relu'),\n",
    "    tf.keras.layers.Dense(10, activation='softmax'),\n",
    "])\n",
    "\n",
    "model.compile(optimizer='adam',loss='sparse_categorical_crossentropy',metrics=['accuracy'])\n",
    "model.summary()\n",
    "model.fit(train_images,train_labels,validation_data=(val_images,val_labels),epochs=20)"
   ]
  }
 ],
 "metadata": {
  "interpreter": {
   "hash": "ac59ebe37160ed0dfa835113d9b8498d9f09ceb179beaac4002f036b9467c963"
  },
  "kernelspec": {
   "display_name": "Python 3.9.7 64-bit",
   "name": "python3"
  },
  "language_info": {
   "codemirror_mode": {
    "name": "ipython",
    "version": 3
   },
   "file_extension": ".py",
   "mimetype": "text/x-python",
   "name": "python",
   "nbconvert_exporter": "python",
   "pygments_lexer": "ipython3",
   "version": "3.9.7"
  },
  "orig_nbformat": 4
 },
 "nbformat": 4,
 "nbformat_minor": 2
}
