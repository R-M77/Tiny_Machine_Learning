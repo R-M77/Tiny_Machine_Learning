{
 "cells": [
  {
   "cell_type": "code",
   "execution_count": 1,
   "metadata": {},
   "outputs": [],
   "source": [
    "import tensorflow as tf\n",
    "import matplotlib.pyplot as plt\n",
    "from tensorflow.keras import datasets, layers, models\n",
    "import numpy as np"
   ]
  },
  {
   "cell_type": "code",
   "execution_count": 2,
   "metadata": {},
   "outputs": [],
   "source": [
    "\"\"\"\"Load Cifar-10 dataset\"\"\"\n",
    "(train_images, train_labels),(test_images, test_labels) = datasets.cifar10.load_data()\n",
    "\n",
    "# Normalize values to 0-1\n",
    "train_images = train_images/255.0\n",
    "test_images = test_images/255.0"
   ]
  },
  {
   "cell_type": "code",
   "execution_count": 4,
   "metadata": {},
   "outputs": [
    {
     "name": "stdout",
     "output_type": "stream",
     "text": [
      "Epoch 1/20\n",
      "1563/1563 [==============================] - 11s 4ms/step - loss: 2.0352 - acc: 0.2671 - val_loss: 1.8587 - val_acc: 0.3380\n",
      "Epoch 2/20\n",
      "1563/1563 [==============================] - 5s 3ms/step - loss: 1.6614 - acc: 0.4052 - val_loss: 1.5123 - val_acc: 0.4603\n",
      "Epoch 3/20\n",
      "1563/1563 [==============================] - 6s 4ms/step - loss: 1.4670 - acc: 0.4756 - val_loss: 1.4017 - val_acc: 0.4998\n",
      "Epoch 4/20\n",
      "1563/1563 [==============================] - 5s 3ms/step - loss: 1.3600 - acc: 0.5186 - val_loss: 1.3433 - val_acc: 0.5173\n",
      "Epoch 5/20\n",
      "1563/1563 [==============================] - 5s 3ms/step - loss: 1.2758 - acc: 0.5497 - val_loss: 1.2476 - val_acc: 0.5595\n",
      "Epoch 6/20\n",
      "1563/1563 [==============================] - 5s 4ms/step - loss: 1.2022 - acc: 0.5801 - val_loss: 1.2367 - val_acc: 0.5614\n",
      "Epoch 7/20\n",
      "1563/1563 [==============================] - 5s 3ms/step - loss: 1.1428 - acc: 0.5994 - val_loss: 1.2016 - val_acc: 0.5802\n",
      "Epoch 8/20\n",
      "1563/1563 [==============================] - 5s 3ms/step - loss: 1.0929 - acc: 0.6192 - val_loss: 1.1328 - val_acc: 0.6060\n",
      "Epoch 9/20\n",
      "1563/1563 [==============================] - 5s 3ms/step - loss: 1.0479 - acc: 0.6357 - val_loss: 1.0765 - val_acc: 0.6281\n",
      "Epoch 10/20\n",
      "1563/1563 [==============================] - 5s 3ms/step - loss: 1.0086 - acc: 0.6491 - val_loss: 1.0439 - val_acc: 0.6384\n",
      "Epoch 11/20\n",
      "1563/1563 [==============================] - 5s 3ms/step - loss: 0.9733 - acc: 0.6613 - val_loss: 1.0359 - val_acc: 0.6420\n",
      "Epoch 12/20\n",
      "1563/1563 [==============================] - 5s 3ms/step - loss: 0.9473 - acc: 0.6726 - val_loss: 1.0131 - val_acc: 0.6493\n",
      "Epoch 13/20\n",
      "1563/1563 [==============================] - 5s 3ms/step - loss: 0.9181 - acc: 0.6829 - val_loss: 0.9939 - val_acc: 0.6589\n",
      "Epoch 14/20\n",
      "1563/1563 [==============================] - 5s 3ms/step - loss: 0.8908 - acc: 0.6918 - val_loss: 1.0118 - val_acc: 0.6489\n",
      "Epoch 15/20\n",
      "1563/1563 [==============================] - 5s 3ms/step - loss: 0.8683 - acc: 0.6991 - val_loss: 0.9853 - val_acc: 0.6689\n",
      "Epoch 16/20\n",
      "1563/1563 [==============================] - 5s 3ms/step - loss: 0.8458 - acc: 0.7068 - val_loss: 0.9510 - val_acc: 0.6777\n",
      "Epoch 17/20\n",
      "1563/1563 [==============================] - 5s 3ms/step - loss: 0.8242 - acc: 0.7145 - val_loss: 0.9961 - val_acc: 0.6598\n",
      "Epoch 18/20\n",
      "1563/1563 [==============================] - 5s 3ms/step - loss: 0.8043 - acc: 0.7216 - val_loss: 0.9762 - val_acc: 0.6618\n",
      "Epoch 19/20\n",
      "1563/1563 [==============================] - 5s 3ms/step - loss: 0.7811 - acc: 0.7315 - val_loss: 0.9432 - val_acc: 0.6771\n",
      "Epoch 20/20\n",
      "1563/1563 [==============================] - 5s 3ms/step - loss: 0.7622 - acc: 0.7378 - val_loss: 0.9746 - val_acc: 0.6712\n"
     ]
    }
   ],
   "source": [
    "\"\"\"Create model - CNN\"\"\"\n",
    "# build model with 2 conv layers | 32x32, 3 channels\n",
    "model = models.Sequential([\n",
    "    tf.keras.layers.Conv2D(64,(3,3),activation='relu',input_shape = (32,32,3)),\n",
    "    tf.keras.layers.MaxPooling2D(2,2),\n",
    "    tf.keras.layers.Conv2D(64,(3,3),activation='relu'),\n",
    "    tf.keras.layers.MaxPooling2D(2,2),\n",
    "    tf.keras.layers.Flatten(),\n",
    "    tf.keras.layers.Dense(20,activation='relu'),\n",
    "    tf.keras.layers.Dense(10,activation='softmax')\n",
    "])\n",
    "\n",
    "# compile model with sgd and sparse categorical loss function\n",
    "model.compile(optimizer='sgd',\n",
    "            loss='sparse_categorical_crossentropy',\n",
    "            metrics=['acc'])\n",
    "\n",
    "# fit model for 20 epochs\n",
    "num_epochs = 20\n",
    "model_fit = model.fit(train_images,train_labels,epochs=num_epochs,\n",
    "                        validation_data=(test_images,test_labels))\n",
    "\n",
    "\n"
   ]
  },
  {
   "cell_type": "code",
   "execution_count": 23,
   "metadata": {},
   "outputs": [
    {
     "data": {
      "image/png": "[encoded data removed]",
      "text/plain": [
       "<Figure size 432x288 with 1 Axes>"
      ]
     },
     "metadata": {
      "needs_background": "light"
     },
     "output_type": "display_data"
    }
   ],
   "source": [
    "# plot results summary\n",
    "plt.plot(model_fit.history['acc'])\n",
    "plt.plot(model_fit.history['val_acc'])\n",
    "plt.title('model acc')\n",
    "plt.ylabel('accuracy')\n",
    "plt.xlabel('epoch')\n",
    "plt.legend(['train', 'test'], loc='upper left')\n",
    "plt.xlim([0,num_epochs])\n",
    "plt.ylim([0.5,1.0])\n",
    "plt.show()"
   ]
  },
  {
   "cell_type": "code",
   "execution_count": 5,
   "metadata": {},
   "outputs": [
    {
     "name": "stdout",
     "output_type": "stream",
     "text": [
      "[[3]\n",
      " [8]\n",
      " [8]\n",
      " [0]\n",
      " [6]\n",
      " [6]\n",
      " [1]\n",
      " [6]\n",
      " [3]\n",
      " [1]\n",
      " [0]\n",
      " [9]\n",
      " [5]\n",
      " [7]\n",
      " [9]\n",
      " [8]\n",
      " [5]\n",
      " [7]\n",
      " [8]\n",
      " [6]\n",
      " [7]\n",
      " [0]\n",
      " [4]\n",
      " [9]\n",
      " [5]\n",
      " [2]\n",
      " [4]\n",
      " [0]\n",
      " [9]\n",
      " [6]\n",
      " [6]\n",
      " [5]\n",
      " [4]\n",
      " [5]\n",
      " [9]\n",
      " [2]\n",
      " [4]\n",
      " [1]\n",
      " [9]\n",
      " [5]\n",
      " [4]\n",
      " [6]\n",
      " [5]\n",
      " [6]\n",
      " [0]\n",
      " [9]\n",
      " [3]\n",
      " [9]\n",
      " [7]\n",
      " [6]\n",
      " [9]\n",
      " [8]\n",
      " [0]\n",
      " [3]\n",
      " [8]\n",
      " [8]\n",
      " [7]\n",
      " [7]\n",
      " [4]\n",
      " [6]\n",
      " [7]\n",
      " [3]\n",
      " [6]\n",
      " [3]\n",
      " [6]\n",
      " [2]\n",
      " [1]\n",
      " [2]\n",
      " [3]\n",
      " [7]\n",
      " [2]\n",
      " [6]\n",
      " [8]\n",
      " [8]\n",
      " [0]\n",
      " [2]\n",
      " [9]\n",
      " [3]\n",
      " [3]\n",
      " [8]\n",
      " [8]\n",
      " [1]\n",
      " [1]\n",
      " [7]\n",
      " [2]\n",
      " [5]\n",
      " [2]\n",
      " [7]\n",
      " [8]\n",
      " [9]\n",
      " [0]\n",
      " [3]\n",
      " [8]\n",
      " [6]\n",
      " [4]\n",
      " [6]\n",
      " [6]\n",
      " [0]\n",
      " [0]\n",
      " [7]]\n"
     ]
    }
   ],
   "source": [
    "print(test_labels[:100])"
   ]
  },
  {
   "cell_type": "code",
   "execution_count": 25,
   "metadata": {},
   "outputs": [
    {
     "data": {
      "image/png": "[encoded data removed]",
      "text/plain": [
       "<Figure size 432x288 with 6 Axes>"
      ]
     },
     "metadata": {
      "needs_background": "light"
     },
     "output_type": "display_data"
    },
    {
     "data": {
      "image/png": "[encoded data removed]",
      "text/plain": [
       "<Figure size 432x288 with 1 Axes>"
      ]
     },
     "metadata": {
      "needs_background": "light"
     },
     "output_type": "display_data"
    },
    {
     "data": {
      "image/png": "[encoded data removed]",
      "text/plain": [
       "<Figure size 432x288 with 1 Axes>"
      ]
     },
     "metadata": {
      "needs_background": "light"
     },
     "output_type": "display_data"
    },
    {
     "data": {
      "image/png": "[encoded data removed]",
      "text/plain": [
       "<Figure size 432x288 with 1 Axes>"
      ]
     },
     "metadata": {
      "needs_background": "light"
     },
     "output_type": "display_data"
    }
   ],
   "source": [
    "\"\"\"visualize data\"\"\"\n",
    "def show_images(img,val_images):\n",
    "    plt.figure()\n",
    "    plt.imshow(val_images[img].reshape(32,32,3))\n",
    "    plt.grid(False)\n",
    "    plt.axis('off')\n",
    "    plt.show()\n",
    "\n",
    "f, axarr = plt.subplots(3,2)\n",
    "first_image = 1\n",
    "second_image = 2\n",
    "third_image = 5\n",
    "\n",
    "convolution_number = 1\n",
    "from tensorflow.keras import models\n",
    "layer_outputs = [layer.output for layer in model.layers]\n",
    "activation_model = tf.keras.models.Model(inputs=model.input, outputs = layer_outputs)\n",
    "\n",
    "for x in range(0,2):\n",
    "    f1 = activation_model.predict(test_images[first_image].reshape(1,32,32,3))[x]\n",
    "    axarr[0,x].imshow(f1[0,:,:,convolution_number],cmap = 'inferno')\n",
    "    axarr[0,x].grid(False)\n",
    "\n",
    "    f2 = activation_model.predict(test_images[second_image].reshape(1,32,32,3))[x]\n",
    "    axarr[1,x].imshow(f2[0,:,:,convolution_number],cmap = 'inferno')\n",
    "    axarr[1,x].grid(False)\n",
    "\n",
    "    f3 = activation_model.predict(test_images[third_image].reshape(1,32,32,3))[x]\n",
    "    axarr[2,x].imshow(f3[0,:,:,convolution_number],cmap = 'inferno')\n",
    "    axarr[2,x].grid(False)\n",
    "\n",
    "show_images(first_image,test_images)\n",
    "show_images(second_image,test_images)\n",
    "show_images(third_image,test_images)"
   ]
  },
  {
   "cell_type": "code",
   "execution_count": 18,
   "metadata": {},
   "outputs": [
    {
     "name": "stdout",
     "output_type": "stream",
     "text": [
      "Epoch 1/20\n",
      "1563/1563 [==============================] - 6s 4ms/step - loss: 0.8877 - acc: 0.6929 - val_loss: 0.9725 - val_acc: 0.6677\n",
      "Epoch 2/20\n",
      "1563/1563 [==============================] - 6s 4ms/step - loss: 0.8059 - acc: 0.7196 - val_loss: 0.9114 - val_acc: 0.6860\n",
      "Epoch 3/20\n",
      "1563/1563 [==============================] - 5s 4ms/step - loss: 0.7364 - acc: 0.7440 - val_loss: 0.8759 - val_acc: 0.7041\n",
      "Epoch 4/20\n",
      "1563/1563 [==============================] - 6s 4ms/step - loss: 0.6732 - acc: 0.7666 - val_loss: 0.9260 - val_acc: 0.6944\n",
      "Epoch 5/20\n",
      "1563/1563 [==============================] - 5s 3ms/step - loss: 0.6285 - acc: 0.7804 - val_loss: 0.9207 - val_acc: 0.6969\n",
      "Epoch 6/20\n",
      "1563/1563 [==============================] - 5s 3ms/step - loss: 0.5910 - acc: 0.7939 - val_loss: 0.9193 - val_acc: 0.7088\n",
      "Epoch 7/20\n",
      "1563/1563 [==============================] - 5s 3ms/step - loss: 0.5507 - acc: 0.8079 - val_loss: 0.9679 - val_acc: 0.6970\n",
      "Epoch 8/20\n",
      "1563/1563 [==============================] - 5s 3ms/step - loss: 0.5148 - acc: 0.8192 - val_loss: 0.9874 - val_acc: 0.7018\n",
      "Epoch 9/20\n",
      "1563/1563 [==============================] - 5s 3ms/step - loss: 0.4851 - acc: 0.8272 - val_loss: 1.0429 - val_acc: 0.7006\n",
      "Epoch 10/20\n",
      "1563/1563 [==============================] - 6s 4ms/step - loss: 0.4523 - acc: 0.8388 - val_loss: 1.0464 - val_acc: 0.6986\n",
      "Epoch 11/20\n",
      "1563/1563 [==============================] - 6s 4ms/step - loss: 0.4330 - acc: 0.8444 - val_loss: 1.0635 - val_acc: 0.6966\n",
      "Epoch 12/20\n",
      "1563/1563 [==============================] - 6s 4ms/step - loss: 0.4026 - acc: 0.8547 - val_loss: 1.0864 - val_acc: 0.6943\n",
      "Epoch 13/20\n",
      "1563/1563 [==============================] - 5s 3ms/step - loss: 0.3876 - acc: 0.8604 - val_loss: 1.1362 - val_acc: 0.7009\n",
      "Epoch 14/20\n",
      "1563/1563 [==============================] - 6s 4ms/step - loss: 0.3647 - acc: 0.8693 - val_loss: 1.1915 - val_acc: 0.6971\n",
      "Epoch 15/20\n",
      "1563/1563 [==============================] - 6s 4ms/step - loss: 0.3443 - acc: 0.8752 - val_loss: 1.2363 - val_acc: 0.6895\n",
      "Epoch 16/20\n",
      "1563/1563 [==============================] - 6s 4ms/step - loss: 0.3310 - acc: 0.8808 - val_loss: 1.2848 - val_acc: 0.6835\n",
      "Epoch 17/20\n",
      "1563/1563 [==============================] - 7s 5ms/step - loss: 0.3041 - acc: 0.8918 - val_loss: 1.2755 - val_acc: 0.6934\n",
      "Epoch 18/20\n",
      "1563/1563 [==============================] - 9s 6ms/step - loss: 0.2923 - acc: 0.8941 - val_loss: 1.4089 - val_acc: 0.6861\n",
      "Epoch 19/20\n",
      "1563/1563 [==============================] - 10s 6ms/step - loss: 0.2787 - acc: 0.8979 - val_loss: 1.4495 - val_acc: 0.6780\n",
      "Epoch 20/20\n",
      "1563/1563 [==============================] - 7s 4ms/step - loss: 0.2663 - acc: 0.9040 - val_loss: 1.4722 - val_acc: 0.6850\n"
     ]
    }
   ],
   "source": [
    "# compile same model with better optimzer\n",
    "model.compile(optimizer='adam',\n",
    "            loss='sparse_categorical_crossentropy',\n",
    "            metrics=['acc'])\n",
    "\n",
    "# fit model\n",
    "model_fit_optimized = model.fit(train_images,train_labels,epochs=num_epochs,\n",
    "                                validation_data=(test_images,test_labels))\n"
   ]
  },
  {
   "cell_type": "code",
   "execution_count": 22,
   "metadata": {},
   "outputs": [
    {
     "data": {
      "image/png": "[encoded data removed]",
      "text/plain": [
       "<Figure size 432x288 with 1 Axes>"
      ]
     },
     "metadata": {
      "needs_background": "light"
     },
     "output_type": "display_data"
    }
   ],
   "source": [
    "# plot results\n",
    "plt.plot(model_fit_optimized.history['acc'])\n",
    "plt.plot(model_fit_optimized.history['val_acc'])\n",
    "plt.title('model acc')\n",
    "plt.ylabel('accuracy')\n",
    "plt.xlabel('epoch')\n",
    "plt.legend(['train', 'test'], loc='upper left')\n",
    "plt.xlim([0,num_epochs])\n",
    "plt.ylim([0.5,1.0])\n",
    "plt.show()"
   ]
  }
 ],
 "metadata": {
  "interpreter": {
   "hash": "ac59ebe37160ed0dfa835113d9b8498d9f09ceb179beaac4002f036b9467c963"
  },
  "kernelspec": {
   "display_name": "Python 3.9.7 64-bit",
   "language": "python",
   "name": "python3"
  },
  "language_info": {
   "codemirror_mode": {
    "name": "ipython",
    "version": 3
   },
   "file_extension": ".py",
   "mimetype": "text/x-python",
   "name": "python",
   "nbconvert_exporter": "python",
   "pygments_lexer": "ipython3",
   "version": "3.9.7"
  },
  "orig_nbformat": 4
 },
 "nbformat": 4,
 "nbformat_minor": 2
}
